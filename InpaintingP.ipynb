{
 "cells": [
  {
   "cell_type": "code",
   "execution_count": null,
   "metadata": {},
   "outputs": [],
   "source": [
    "!nvidia-smi"
   ]
  },
  {
   "cell_type": "code",
   "execution_count": null,
   "metadata": {},
   "outputs": [],
   "source": [
    "!pip install diffusers\n",
    "!pip install accelerate\n",
    "!pip install transformers"
   ]
  },
  {
   "cell_type": "code",
   "execution_count": null,
   "metadata": {},
   "outputs": [],
   "source": [
    "from diffusers import StableDiffusionControlNetPipeline, ControlNetModel, DiffusionPipeline\n",
    "import torch\n",
    "from diffusers import UniPCMultistepScheduler\n",
    "from diffusers.utils import load_image\n",
    "import cv2\n",
    "from PIL import Image\n",
    "import numpy as np\n",
    "from transformers import pipeline,SamModel, SamProcessor\n",
    "import torch "
   ]
  },
  {
   "cell_type": "markdown",
   "metadata": {},
   "source": [
    "## Sam Model for masking "
   ]
  },
  {
   "cell_type": "code",
   "execution_count": null,
   "metadata": {},
   "outputs": [],
   "source": [
    "generator = pipeline(\n",
    "    task=\"mask-generation\",\n",
    "    model=\"facebook/sam-vit-base\",\n",
    "    processor=\"facebook/sam-vit-base\",\n",
    "    device=0,\n",
    "    points_per_batch=256\n",
    ")"
   ]
  },
  {
   "cell_type": "code",
   "execution_count": null,
   "metadata": {},
   "outputs": [],
   "source": [
    "image_path = \"/kaggle/input/jewelry/OSN23015_3.jpg\"\n",
    "image = Image.open(image_path)\n",
    "image"
   ]
  },
  {
   "cell_type": "code",
   "execution_count": null,
   "metadata": {},
   "outputs": [],
   "source": [
    "outputs = generator(image_path, points_per_batch = 256)\n"
   ]
  },
  {
   "cell_type": "code",
   "execution_count": null,
   "metadata": {},
   "outputs": [],
   "source": [
    "import matplotlib.pyplot as plt\n",
    "import numpy as np\n",
    "from PIL import Image\n",
    "\n",
    "\n",
    "# Extract the first mask from the list\n",
    "first_mask = outputs['masks'][0]\n",
    "# Plot the mask\n",
    "plt.figure(figsize=(6,6))\n",
    "plt.imshow(first_mask, cmap='gray')  # Use a gray colormap to visualize the mask\n",
    "plt.axis('off')  # Hide the axes\n",
    "# Save the mask as a JPG image\n",
    "plt.savefig(\"mask_image.jpg\", format='jpg', bbox_inches='tight', pad_inches=0)\n",
    "plt.show()"
   ]
  },
  {
   "cell_type": "code",
   "execution_count": null,
   "metadata": {},
   "outputs": [],
   "source": [
    "save_path=r\"/kaggle/working/\"\n",
    "first_mask.save(save_path)"
   ]
  },
  {
   "cell_type": "markdown",
   "metadata": {},
   "source": [
    "## Inpanting "
   ]
  },
  {
   "cell_type": "markdown",
   "metadata": {},
   "source": [
    "import torch\n",
    "from diffusers import AutoPipelineForInpainting\n",
    "from diffusers.utils import load_image, make_image_grid\n",
    "\n",
    "pipe = AutoPipelineForInpainting.from_pretrained(\n",
    "    \"diffusers/stable-diffusion-xl-1.0-inpainting-0.1\", torch_dtype=torch.float16, variant=\"fp16\"\n",
    ")\n",
    "pipe.enable_model_cpu_offload()\n",
    "pipe.to(\"cuda\")"
   ]
  },
  {
   "cell_type": "code",
   "execution_count": null,
   "metadata": {},
   "outputs": [],
   "source": [
    "first_mask=\"/kaggle/working/mask_image.jpg\"\n",
    "# image_path = \"/kaggle/input/jewelry/OSN23015_3.jpg\"\n",
    "mask = Image.open(first_mask)\n",
    "mask"
   ]
  },
  {
   "cell_type": "code",
   "execution_count": null,
   "metadata": {},
   "outputs": [],
   "source": [
    "prompt = '''Generate black color background'''\n",
    "neg_prompt = \"Inconsistent colors, distorted image, clumsy design, chaotic elements, mismatched aesthetics, unclean and fuzzy patterns, same color scheme, ugly patterns, varied artistic style\""
   ]
  },
  {
   "cell_type": "code",
   "execution_count": null,
   "metadata": {},
   "outputs": [],
   "source": [
    "# Run the inpainting pipeline\n",
    "output = pipe(prompt=prompt, negative_prompt = neg_prompt,image=image, mask_image=mask)\n",
    "result_image = output.images[0]\n",
    "result_image"
   ]
  }
 ],
 "metadata": {
  "language_info": {
   "name": "python"
  }
 },
 "nbformat": 4,
 "nbformat_minor": 2
}
