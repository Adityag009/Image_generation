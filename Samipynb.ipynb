{
  "nbformat": 4,
  "nbformat_minor": 0,
  "metadata": {
    "colab": {
      "provenance": [],
      "gpuType": "T4"
    },
    "kernelspec": {
      "name": "python3",
      "display_name": "Python 3"
    },
    "language_info": {
      "name": "python"
    },
    "accelerator": "GPU",
    "gpuClass": "standard"
  },
  "cells": [
    {
      "cell_type": "code",
      "execution_count": null,
      "metadata": {
        "colab": {
          "base_uri": "https://localhost:8080/"
        },
        "id": "GwpLWGDnETxQ",
        "outputId": "d0e89702-051b-47af-882e-b9812eeaa9f2"
      },
      "outputs": [
        {
          "output_type": "stream",
          "name": "stdout",
          "text": [
            "Sat Feb 24 05:38:02 2024       \n",
            "+---------------------------------------------------------------------------------------+\n",
            "| NVIDIA-SMI 535.104.05             Driver Version: 535.104.05   CUDA Version: 12.2     |\n",
            "|-----------------------------------------+----------------------+----------------------+\n",
            "| GPU  Name                 Persistence-M | Bus-Id        Disp.A | Volatile Uncorr. ECC |\n",
            "| Fan  Temp   Perf          Pwr:Usage/Cap |         Memory-Usage | GPU-Util  Compute M. |\n",
            "|                                         |                      |               MIG M. |\n",
            "|=========================================+======================+======================|\n",
            "|   0  Tesla T4                       Off | 00000000:00:04.0 Off |                    0 |\n",
            "| N/A   41C    P8               9W /  70W |      0MiB / 15360MiB |      0%      Default |\n",
            "|                                         |                      |                  N/A |\n",
            "+-----------------------------------------+----------------------+----------------------+\n",
            "                                                                                         \n",
            "+---------------------------------------------------------------------------------------+\n",
            "| Processes:                                                                            |\n",
            "|  GPU   GI   CI        PID   Type   Process name                            GPU Memory |\n",
            "|        ID   ID                                                             Usage      |\n",
            "|=======================================================================================|\n",
            "|  No running processes found                                                           |\n",
            "+---------------------------------------------------------------------------------------+\n"
          ]
        }
      ],
      "source": [
        "\n",
        "!nvidia-smi"
      ]
    },
    {
      "cell_type": "code",
      "source": [
        "\n",
        "import os\n",
        "HOME = os.getcwd()\n",
        "print(\"HOME:\", HOME)"
      ],
      "metadata": {
        "colab": {
          "base_uri": "https://localhost:8080/"
        },
        "id": "K6my0uWhGUQE",
        "outputId": "eb88559c-4097-444c-e32d-b29e51f644b0"
      },
      "execution_count": null,
      "outputs": [
        {
          "output_type": "stream",
          "name": "stdout",
          "text": [
            "HOME: /content\n"
          ]
        }
      ]
    },
    {
      "cell_type": "code",
      "source": [
        "%cd {HOME}\n",
        "\n",
        "import sys\n",
        "!{sys.executable} -m pip install 'git+https://github.com/facebookresearch/segment-anything.git'"
      ],
      "metadata": {
        "colab": {
          "base_uri": "https://localhost:8080/"
        },
        "id": "8PQtkdjsGbVf",
        "outputId": "6e80e2ac-fa3d-464b-84df-407863da9ae7"
      },
      "execution_count": null,
      "outputs": [
        {
          "output_type": "stream",
          "name": "stdout",
          "text": [
            "/content\n",
            "Collecting git+https://github.com/facebookresearch/segment-anything.git\n",
            "  Cloning https://github.com/facebookresearch/segment-anything.git to /tmp/pip-req-build-ie56agi7\n",
            "  Running command git clone --filter=blob:none --quiet https://github.com/facebookresearch/segment-anything.git /tmp/pip-req-build-ie56agi7\n",
            "  Resolved https://github.com/facebookresearch/segment-anything.git to commit 6fdee8f2727f4506cfbbe553e23b895e27956588\n",
            "  Preparing metadata (setup.py) ... \u001b[?25l\u001b[?25hdone\n",
            "Building wheels for collected packages: segment-anything\n",
            "  Building wheel for segment-anything (setup.py) ... \u001b[?25l\u001b[?25hdone\n",
            "  Created wheel for segment-anything: filename=segment_anything-1.0-py3-none-any.whl size=36587 sha256=6946d06d38634e0ef9cf1e52ec0d58babe1126d6a4cbd8d5ccaca774bfa6c5ea\n",
            "  Stored in directory: /tmp/pip-ephem-wheel-cache-qazf8bc3/wheels/10/cf/59/9ccb2f0a1bcc81d4fbd0e501680b5d088d690c6cfbc02dc99d\n",
            "Successfully built segment-anything\n",
            "Installing collected packages: segment-anything\n",
            "Successfully installed segment-anything-1.0\n"
          ]
        }
      ]
    },
    {
      "cell_type": "code",
      "source": [
        "!pip install -q jupyter_bbox_widget roboflow dataclasses-json supervision"
      ],
      "metadata": {
        "colab": {
          "base_uri": "https://localhost:8080/"
        },
        "id": "cjTko47PGcB8",
        "outputId": "6446df06-dfc4-4c6d-b575-a572476468b0"
      },
      "execution_count": null,
      "outputs": [
        {
          "output_type": "stream",
          "name": "stdout",
          "text": [
            "\u001b[2K     \u001b[90m━━━━━━━━━━━━━━━━━━━━━━━━━━━━━━━━━━━━━━━━\u001b[0m \u001b[32m367.8/367.8 kB\u001b[0m \u001b[31m7.3 MB/s\u001b[0m eta \u001b[36m0:00:00\u001b[0m\n",
            "\u001b[2K     \u001b[90m━━━━━━━━━━━━━━━━━━━━━━━━━━━━━━━━━━━━━━━━\u001b[0m \u001b[32m70.2/70.2 kB\u001b[0m \u001b[31m9.3 MB/s\u001b[0m eta \u001b[36m0:00:00\u001b[0m\n",
            "\u001b[2K     \u001b[90m━━━━━━━━━━━━━━━━━━━━━━━━━━━━━━━━━━━━━━━━\u001b[0m \u001b[32m86.7/86.7 kB\u001b[0m \u001b[31m10.4 MB/s\u001b[0m eta \u001b[36m0:00:00\u001b[0m\n",
            "\u001b[2K     \u001b[90m━━━━━━━━━━━━━━━━━━━━━━━━━━━━━━━━━━━━━━━━\u001b[0m \u001b[32m158.3/158.3 kB\u001b[0m \u001b[31m11.6 MB/s\u001b[0m eta \u001b[36m0:00:00\u001b[0m\n",
            "\u001b[2K     \u001b[90m━━━━━━━━━━━━━━━━━━━━━━━━━━━━━━━━━━━━━━━━\u001b[0m \u001b[32m178.7/178.7 kB\u001b[0m \u001b[31m10.9 MB/s\u001b[0m eta \u001b[36m0:00:00\u001b[0m\n",
            "\u001b[2K     \u001b[90m━━━━━━━━━━━━━━━━━━━━━━━━━━━━━━━━━━━━━━━━\u001b[0m \u001b[32m58.8/58.8 kB\u001b[0m \u001b[31m8.7 MB/s\u001b[0m eta \u001b[36m0:00:00\u001b[0m\n",
            "\u001b[2K     \u001b[90m━━━━━━━━━━━━━━━━━━━━━━━━━━━━━━━━━━━━━━━━\u001b[0m \u001b[32m49.1/49.1 MB\u001b[0m \u001b[31m14.5 MB/s\u001b[0m eta \u001b[36m0:00:00\u001b[0m\n",
            "\u001b[2K     \u001b[90m━━━━━━━━━━━━━━━━━━━━━━━━━━━━━━━━━━━━━━━━\u001b[0m \u001b[32m54.5/54.5 kB\u001b[0m \u001b[31m8.1 MB/s\u001b[0m eta \u001b[36m0:00:00\u001b[0m\n",
            "\u001b[2K     \u001b[90m━━━━━━━━━━━━━━━━━━━━━━━━━━━━━━━━━━━━━━━━\u001b[0m \u001b[32m49.4/49.4 kB\u001b[0m \u001b[31m7.3 MB/s\u001b[0m eta \u001b[36m0:00:00\u001b[0m\n",
            "\u001b[2K     \u001b[90m━━━━━━━━━━━━━━━━━━━━━━━━━━━━━━━━━━━━━━━━\u001b[0m \u001b[32m1.6/1.6 MB\u001b[0m \u001b[31m39.9 MB/s\u001b[0m eta \u001b[36m0:00:00\u001b[0m\n",
            "\u001b[?25h"
          ]
        }
      ]
    },
    {
      "cell_type": "code",
      "source": [
        "\n",
        "%cd {HOME}\n",
        "!mkdir {HOME}/weights\n",
        "%cd {HOME}/weights\n",
        "\n",
        "!wget -q https://dl.fbaipublicfiles.com/segment_anything/sam_vit_h_4b8939.pth"
      ],
      "metadata": {
        "colab": {
          "base_uri": "https://localhost:8080/"
        },
        "id": "JE4dVChyG8qc",
        "outputId": "14bc4429-a81e-4ce0-9440-c0338138b8f8"
      },
      "execution_count": null,
      "outputs": [
        {
          "output_type": "stream",
          "name": "stdout",
          "text": [
            "/content\n",
            "/content/weights\n"
          ]
        }
      ]
    },
    {
      "cell_type": "code",
      "source": [
        "import os\n",
        "\n",
        "CHECKPOINT_PATH = os.path.join(HOME, \"weights\", \"sam_vit_h_4b8939.pth\")\n",
        "print(CHECKPOINT_PATH, \"; exist:\", os.path.isfile(CHECKPOINT_PATH))"
      ],
      "metadata": {
        "colab": {
          "base_uri": "https://localhost:8080/"
        },
        "id": "W8vRVI12HOCe",
        "outputId": "3d37cc50-7fc4-47a9-cc1c-f0799500d700"
      },
      "execution_count": null,
      "outputs": [
        {
          "output_type": "stream",
          "name": "stdout",
          "text": [
            "/content/weights/sam_vit_h_4b8939.pth ; exist: True\n"
          ]
        }
      ]
    },
    {
      "cell_type": "code",
      "source": [
        "import torch\n",
        "\n",
        "DEVICE = torch.device('cuda:0' if torch.cuda.is_available() else 'cpu')\n",
        "MODEL_TYPE = \"vit_h\"\n"
      ],
      "metadata": {
        "id": "snXf9GYjHZPp"
      },
      "execution_count": null,
      "outputs": []
    },
    {
      "cell_type": "code",
      "source": [
        "from segment_anything import sam_model_registry, SamAutomaticMaskGenerator, SamPredictor\n",
        "\n",
        "sam = sam_model_registry[MODEL_TYPE](checkpoint=CHECKPOINT_PATH).to(device=DEVICE)"
      ],
      "metadata": {
        "id": "SHkaZdnyHd9O"
      },
      "execution_count": null,
      "outputs": []
    },
    {
      "cell_type": "code",
      "source": [
        "mask_generator = SamAutomaticMaskGenerator(sam)"
      ],
      "metadata": {
        "id": "rGIOJXrXHyHm"
      },
      "execution_count": null,
      "outputs": []
    },
    {
      "cell_type": "code",
      "source": [
        "from google.colab import drive\n",
        "drive.mount('/content/drive')"
      ],
      "metadata": {
        "colab": {
          "base_uri": "https://localhost:8080/"
        },
        "id": "SuqYgIvuH2yO",
        "outputId": "946a9b04-6e84-4d53-e2ca-1504c082d776"
      },
      "execution_count": null,
      "outputs": [
        {
          "output_type": "stream",
          "name": "stdout",
          "text": [
            "Mounted at /content/drive\n"
          ]
        }
      ]
    },
    {
      "cell_type": "code",
      "source": [
        "IMAGE_NAME = \"ORG22134_1.jpg\" # replace with the name of your image\n",
        "IMAGE_PATH1 = os.path.join(\"/content/\", IMAGE_NAME)"
      ],
      "metadata": {
        "id": "IYXD6aqrIdbM"
      },
      "execution_count": null,
      "outputs": []
    },
    {
      "cell_type": "code",
      "source": [
        "\n",
        "import cv2\n",
        "import supervision as sv\n",
        "\n",
        "image_bgr = cv2.imread(IMAGE_PATH1)\n",
        "image_rgb = cv2.cvtColor(image_bgr, cv2.COLOR_BGR2RGB)\n",
        "\n",
        "sam_result = mask_generator.generate(image_rgb)"
      ],
      "metadata": {
        "id": "a18-LLsmJBYf"
      },
      "execution_count": null,
      "outputs": []
    },
    {
      "cell_type": "code",
      "source": [
        "sam_result"
      ],
      "metadata": {
        "colab": {
          "base_uri": "https://localhost:8080/"
        },
        "id": "bKYvmaKiQ1n7",
        "outputId": "9d6893cf-98e6-45f2-8f01-2622fec95f1f"
      },
      "execution_count": null,
      "outputs": [
        {
          "output_type": "execute_result",
          "data": {
            "text/plain": [
              "[{'segmentation': array([[ True,  True,  True, ...,  True,  True,  True],\n",
              "         [ True,  True,  True, ...,  True,  True,  True],\n",
              "         [ True,  True,  True, ...,  True,  True,  True],\n",
              "         ...,\n",
              "         [ True,  True,  True, ...,  True,  True,  True],\n",
              "         [ True,  True,  True, ...,  True,  True,  True],\n",
              "         [ True,  True,  True, ...,  True,  True,  True]]),\n",
              "  'area': 847117,\n",
              "  'bbox': [0, 0, 999, 999],\n",
              "  'predicted_iou': 1.016993761062622,\n",
              "  'point_coords': [[390.625, 796.875]],\n",
              "  'stability_score': 0.9944742918014526,\n",
              "  'crop_box': [0, 0, 1000, 1000]},\n",
              " {'segmentation': array([[False, False, False, ..., False, False, False],\n",
              "         [False, False, False, ..., False, False, False],\n",
              "         [False, False, False, ..., False, False, False],\n",
              "         ...,\n",
              "         [False, False, False, ..., False, False, False],\n",
              "         [False, False, False, ..., False, False, False],\n",
              "         [False, False, False, ..., False, False, False]]),\n",
              "  'area': 140960,\n",
              "  'bbox': [304, 84, 392, 834],\n",
              "  'predicted_iou': 0.9990837574005127,\n",
              "  'point_coords': [[390.625, 515.625]],\n",
              "  'stability_score': 0.9667456746101379,\n",
              "  'crop_box': [0, 0, 1000, 1000]},\n",
              " {'segmentation': array([[False, False, False, ..., False, False, False],\n",
              "         [False, False, False, ..., False, False, False],\n",
              "         [False, False, False, ..., False, False, False],\n",
              "         ...,\n",
              "         [False, False, False, ..., False, False, False],\n",
              "         [False, False, False, ..., False, False, False],\n",
              "         [False, False, False, ..., False, False, False]]),\n",
              "  'area': 90932,\n",
              "  'bbox': [375, 181, 256, 673],\n",
              "  'predicted_iou': 0.9897593259811401,\n",
              "  'point_coords': [[390.625, 609.375]],\n",
              "  'stability_score': 0.9696943163871765,\n",
              "  'crop_box': [0, 0, 1000, 1000]},\n",
              " {'segmentation': array([[False, False, False, ..., False, False, False],\n",
              "         [False, False, False, ..., False, False, False],\n",
              "         [False, False, False, ..., False, False, False],\n",
              "         ...,\n",
              "         [False, False, False, ..., False, False, False],\n",
              "         [False, False, False, ..., False, False, False],\n",
              "         [False, False, False, ..., False, False, False]]),\n",
              "  'area': 28337,\n",
              "  'bbox': [303, 218, 185, 520],\n",
              "  'predicted_iou': 0.9789424538612366,\n",
              "  'point_coords': [[453.125, 234.375]],\n",
              "  'stability_score': 0.964627206325531,\n",
              "  'crop_box': [0, 0, 1000, 1000]},\n",
              " {'segmentation': array([[False, False, False, ..., False, False, False],\n",
              "         [False, False, False, ..., False, False, False],\n",
              "         [False, False, False, ..., False, False, False],\n",
              "         ...,\n",
              "         [False, False, False, ..., False, False, False],\n",
              "         [False, False, False, ..., False, False, False],\n",
              "         [False, False, False, ..., False, False, False]]),\n",
              "  'area': 7011,\n",
              "  'bbox': [476, 80, 163, 95],\n",
              "  'predicted_iou': 0.9761760830879211,\n",
              "  'point_coords': [[546.875, 109.375]],\n",
              "  'stability_score': 0.9820672273635864,\n",
              "  'crop_box': [0, 0, 1000, 1000]},\n",
              " {'segmentation': array([[False, False, False, ..., False, False, False],\n",
              "         [False, False, False, ..., False, False, False],\n",
              "         [False, False, False, ..., False, False, False],\n",
              "         ...,\n",
              "         [False, False, False, ..., False, False, False],\n",
              "         [False, False, False, ..., False, False, False],\n",
              "         [False, False, False, ..., False, False, False]]),\n",
              "  'area': 35475,\n",
              "  'bbox': [303, 81, 335, 657],\n",
              "  'predicted_iou': 0.9732105731964111,\n",
              "  'point_coords': [[390.625, 328.125]],\n",
              "  'stability_score': 0.9662703275680542,\n",
              "  'crop_box': [0, 0, 1000, 1000]},\n",
              " {'segmentation': array([[False, False, False, ..., False, False, False],\n",
              "         [False, False, False, ..., False, False, False],\n",
              "         [False, False, False, ..., False, False, False],\n",
              "         ...,\n",
              "         [False, False, False, ..., False, False, False],\n",
              "         [False, False, False, ..., False, False, False],\n",
              "         [False, False, False, ..., False, False, False]]),\n",
              "  'area': 33518,\n",
              "  'bbox': [327, 168, 210, 275],\n",
              "  'predicted_iou': 0.966280460357666,\n",
              "  'point_coords': [[484.375, 296.875]],\n",
              "  'stability_score': 0.9606366157531738,\n",
              "  'crop_box': [0, 0, 1000, 1000]},\n",
              " {'segmentation': array([[False, False, False, ..., False, False, False],\n",
              "         [False, False, False, ..., False, False, False],\n",
              "         [False, False, False, ..., False, False, False],\n",
              "         ...,\n",
              "         [False, False, False, ..., False, False, False],\n",
              "         [False, False, False, ..., False, False, False],\n",
              "         [False, False, False, ..., False, False, False]]),\n",
              "  'area': 1584,\n",
              "  'bbox': [383, 235, 43, 97],\n",
              "  'predicted_iou': 0.9427801370620728,\n",
              "  'point_coords': [[390.625, 296.875]],\n",
              "  'stability_score': 0.9683033227920532,\n",
              "  'crop_box': [0, 0, 1000, 1000]}]"
            ]
          },
          "metadata": {},
          "execution_count": 70
        }
      ]
    },
    {
      "cell_type": "code",
      "source": [
        "print(sam_result[0].keys())"
      ],
      "metadata": {
        "colab": {
          "base_uri": "https://localhost:8080/"
        },
        "id": "vco69TcWWG2i",
        "outputId": "965a347d-38a8-4b6e-db35-b33600992a8c"
      },
      "execution_count": null,
      "outputs": [
        {
          "output_type": "stream",
          "name": "stdout",
          "text": [
            "dict_keys(['segmentation', 'area', 'bbox', 'predicted_iou', 'point_coords', 'stability_score', 'crop_box'])\n"
          ]
        }
      ]
    },
    {
      "cell_type": "code",
      "source": [
        "masks = [\n",
        "    mask['segmentation']\n",
        "    for mask\n",
        "    in sorted(sam_result, key=lambda x: x['area'], reverse=True)\n",
        "]\n",
        "\n",
        "# sv.plot_images_grid(\n",
        "#     images=masks,\n",
        "#     grid_size=(8, int(len(masks) / 8)),\n",
        "#     size=(16, 16)\n",
        "# )\n"
      ],
      "metadata": {
        "id": "YHJcENNAVK8m"
      },
      "execution_count": null,
      "outputs": []
    },
    {
      "cell_type": "code",
      "source": [
        "import matplotlib.pyplot as plt\n",
        "\n",
        "# Assuming `masks` contains boolean arrays as per your snippet\n",
        "# and you have sorted and selected the masks as per your original code\n",
        "first_mask = masks[0]  # Directly use the first mask\n",
        "\n",
        "# Plot the first mask\n",
        "plt.figure(figsize=(6, 6))\n",
        "plt.imshow(first_mask, cmap='gray')  # Assuming the mask is boolean or in a suitable format for 'gray' colormap\n",
        "plt.axis('off')  # Optionally remove the axis\n",
        "plt.show()"
      ],
      "metadata": {
        "colab": {
          "base_uri": "https://localhost:8080/",
          "height": 499
        },
        "id": "QwghDrRWWnZT",
        "outputId": "e8b2710f-866a-4669-e3b9-3730b3879678"
      },
      "execution_count": null,
      "outputs": [
        {
          "output_type": "display_data",
          "data": {
            "text/plain": [
              "<Figure size 600x600 with 1 Axes>"
            ],
            "image/png": "[encoded data removed]"
          },
          "metadata": {}
        }
      ]
    },
    {
      "cell_type": "code",
      "source": [
        "mask_annotator = sv.MaskAnnotator()\n",
        "\n",
        "detections = sv.Detections.from_sam(sam_result=sam_result)\n",
        "\n",
        "annotated_image = mask_annotator.annotate(scene=image_bgr.copy(), detections=detections)\n",
        "\n",
        "sv.plot_images_grid(\n",
        "    images=[image_bgr, annotated_image],\n",
        "    grid_size=(1, 2),\n",
        "    titles=['source image', 'segmented image']\n",
        ")\n"
      ],
      "metadata": {
        "colab": {
          "base_uri": "https://localhost:8080/",
          "height": 356
        },
        "id": "ggf1kB8QO_Ix",
        "outputId": "16f3fffb-8ff6-4e29-8548-939775f43407"
      },
      "execution_count": null,
      "outputs": [
        {
          "output_type": "error",
          "ename": "ValueError",
          "evalue": "Could not resolve color by class becauseDetections do not have class_id",
          "traceback": [
            "\u001b[0;31m---------------------------------------------------------------------------\u001b[0m",
            "\u001b[0;31mValueError\u001b[0m                                Traceback (most recent call last)",
            "\u001b[0;32m<ipython-input-17-28fd61e1f173>\u001b[0m in \u001b[0;36m<cell line: 5>\u001b[0;34m()\u001b[0m\n\u001b[1;32m      3\u001b[0m \u001b[0mdetections\u001b[0m \u001b[0;34m=\u001b[0m \u001b[0msv\u001b[0m\u001b[0;34m.\u001b[0m\u001b[0mDetections\u001b[0m\u001b[0;34m.\u001b[0m\u001b[0mfrom_sam\u001b[0m\u001b[0;34m(\u001b[0m\u001b[0msam_result\u001b[0m\u001b[0;34m=\u001b[0m\u001b[0msam_result\u001b[0m\u001b[0;34m)\u001b[0m\u001b[0;34m\u001b[0m\u001b[0;34m\u001b[0m\u001b[0m\n\u001b[1;32m      4\u001b[0m \u001b[0;34m\u001b[0m\u001b[0m\n\u001b[0;32m----> 5\u001b[0;31m \u001b[0mannotated_image\u001b[0m \u001b[0;34m=\u001b[0m \u001b[0mmask_annotator\u001b[0m\u001b[0;34m.\u001b[0m\u001b[0mannotate\u001b[0m\u001b[0;34m(\u001b[0m\u001b[0mscene\u001b[0m\u001b[0;34m=\u001b[0m\u001b[0mimage_bgr\u001b[0m\u001b[0;34m.\u001b[0m\u001b[0mcopy\u001b[0m\u001b[0;34m(\u001b[0m\u001b[0;34m)\u001b[0m\u001b[0;34m,\u001b[0m \u001b[0mdetections\u001b[0m\u001b[0;34m=\u001b[0m\u001b[0mdetections\u001b[0m\u001b[0;34m)\u001b[0m\u001b[0;34m\u001b[0m\u001b[0;34m\u001b[0m\u001b[0m\n\u001b[0m\u001b[1;32m      6\u001b[0m \u001b[0;34m\u001b[0m\u001b[0m\n\u001b[1;32m      7\u001b[0m sv.plot_images_grid(\n",
            "\u001b[0;32m/usr/local/lib/python3.10/dist-packages/supervision/annotators/core.py\u001b[0m in \u001b[0;36mannotate\u001b[0;34m(self, scene, detections, custom_color_lookup)\u001b[0m\n\u001b[1;32m    241\u001b[0m \u001b[0;34m\u001b[0m\u001b[0m\n\u001b[1;32m    242\u001b[0m         \u001b[0;32mfor\u001b[0m \u001b[0mdetection_idx\u001b[0m \u001b[0;32min\u001b[0m \u001b[0mnp\u001b[0m\u001b[0;34m.\u001b[0m\u001b[0mflip\u001b[0m\u001b[0;34m(\u001b[0m\u001b[0mnp\u001b[0m\u001b[0;34m.\u001b[0m\u001b[0margsort\u001b[0m\u001b[0;34m(\u001b[0m\u001b[0mdetections\u001b[0m\u001b[0;34m.\u001b[0m\u001b[0marea\u001b[0m\u001b[0;34m)\u001b[0m\u001b[0;34m)\u001b[0m\u001b[0;34m:\u001b[0m\u001b[0;34m\u001b[0m\u001b[0;34m\u001b[0m\u001b[0m\n\u001b[0;32m--> 243\u001b[0;31m             color = resolve_color(\n\u001b[0m\u001b[1;32m    244\u001b[0m                 \u001b[0mcolor\u001b[0m\u001b[0;34m=\u001b[0m\u001b[0mself\u001b[0m\u001b[0;34m.\u001b[0m\u001b[0mcolor\u001b[0m\u001b[0;34m,\u001b[0m\u001b[0;34m\u001b[0m\u001b[0;34m\u001b[0m\u001b[0m\n\u001b[1;32m    245\u001b[0m                 \u001b[0mdetections\u001b[0m\u001b[0;34m=\u001b[0m\u001b[0mdetections\u001b[0m\u001b[0;34m,\u001b[0m\u001b[0;34m\u001b[0m\u001b[0;34m\u001b[0m\u001b[0m\n",
            "\u001b[0;32m/usr/local/lib/python3.10/dist-packages/supervision/annotators/utils.py\u001b[0m in \u001b[0;36mresolve_color\u001b[0;34m(color, detections, detection_idx, color_lookup)\u001b[0m\n\u001b[1;32m     76\u001b[0m     \u001b[0mcolor_lookup\u001b[0m\u001b[0;34m:\u001b[0m \u001b[0mUnion\u001b[0m\u001b[0;34m[\u001b[0m\u001b[0mColorLookup\u001b[0m\u001b[0;34m,\u001b[0m \u001b[0mnp\u001b[0m\u001b[0;34m.\u001b[0m\u001b[0mndarray\u001b[0m\u001b[0;34m]\u001b[0m \u001b[0;34m=\u001b[0m \u001b[0mColorLookup\u001b[0m\u001b[0;34m.\u001b[0m\u001b[0mCLASS\u001b[0m\u001b[0;34m,\u001b[0m\u001b[0;34m\u001b[0m\u001b[0;34m\u001b[0m\u001b[0m\n\u001b[1;32m     77\u001b[0m ) -> Color:\n\u001b[0;32m---> 78\u001b[0;31m     idx = resolve_color_idx(\n\u001b[0m\u001b[1;32m     79\u001b[0m         \u001b[0mdetections\u001b[0m\u001b[0;34m=\u001b[0m\u001b[0mdetections\u001b[0m\u001b[0;34m,\u001b[0m\u001b[0;34m\u001b[0m\u001b[0;34m\u001b[0m\u001b[0m\n\u001b[1;32m     80\u001b[0m         \u001b[0mdetection_idx\u001b[0m\u001b[0;34m=\u001b[0m\u001b[0mdetection_idx\u001b[0m\u001b[0;34m,\u001b[0m\u001b[0;34m\u001b[0m\u001b[0;34m\u001b[0m\u001b[0m\n",
            "\u001b[0;32m/usr/local/lib/python3.10/dist-packages/supervision/annotators/utils.py\u001b[0m in \u001b[0;36mresolve_color_idx\u001b[0;34m(detections, detection_idx, color_lookup)\u001b[0m\n\u001b[1;32m     50\u001b[0m     \u001b[0;32melif\u001b[0m \u001b[0mcolor_lookup\u001b[0m \u001b[0;34m==\u001b[0m \u001b[0mColorLookup\u001b[0m\u001b[0;34m.\u001b[0m\u001b[0mCLASS\u001b[0m\u001b[0;34m:\u001b[0m\u001b[0;34m\u001b[0m\u001b[0;34m\u001b[0m\u001b[0m\n\u001b[1;32m     51\u001b[0m         \u001b[0;32mif\u001b[0m \u001b[0mdetections\u001b[0m\u001b[0;34m.\u001b[0m\u001b[0mclass_id\u001b[0m \u001b[0;32mis\u001b[0m \u001b[0;32mNone\u001b[0m\u001b[0;34m:\u001b[0m\u001b[0;34m\u001b[0m\u001b[0;34m\u001b[0m\u001b[0m\n\u001b[0;32m---> 52\u001b[0;31m             raise ValueError(\n\u001b[0m\u001b[1;32m     53\u001b[0m                 \u001b[0;34m\"Could not resolve color by class because\"\u001b[0m\u001b[0;34m\u001b[0m\u001b[0;34m\u001b[0m\u001b[0m\n\u001b[1;32m     54\u001b[0m                 \u001b[0;34m\"Detections do not have class_id\"\u001b[0m\u001b[0;34m\u001b[0m\u001b[0;34m\u001b[0m\u001b[0m\n",
            "\u001b[0;31mValueError\u001b[0m: Could not resolve color by class becauseDetections do not have class_id"
          ]
        }
      ]
    }
  ]
}